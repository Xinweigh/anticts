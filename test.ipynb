{
 "cells": [
  {
   "cell_type": "code",
   "execution_count": null,
   "id": "a9e91cf8",
   "metadata": {},
   "outputs": [],
   "source": [
    "import pygame\n",
    "pygame.init()\n",
    "\n",
    "# 初始化手柄\n",
    "joystick = pygame.joystick.Joystick(0)\n",
    "joystick.init()\n",
    "print(\"手柄名称:\", joystick.get_name())\n",
    "print(\"轴数量:\", joystick.get_numaxes())\n",
    "print(\"按钮数量:\", joystick.get_numbuttons())\n",
    "\n",
    "# 实时打印输入事件\n",
    "while True:\n",
    "    pygame.event.pump()  # 强制刷新事件队列\n",
    "\n",
    "    # 打印所有轴的值\n",
    "    axes = [joystick.get_axis(i) for i in range(joystick.get_numaxes())]\n",
    "    print(\"Axes:\", [f\"{v:.2f}\" for v in axes])\n",
    "\n",
    "    # 打印所有按钮状态\n",
    "    buttons = [joystick.get_button(i) for i in range(joystick.get_numbuttons())]\n",
    "    print(\"Buttons:\", buttons)\n",
    "\n",
    "    pygame.time.wait(1000)  # 降低刷新频率"
   ]
  },
  {
   "cell_type": "code",
   "execution_count": null,
   "id": "666ec36e",
   "metadata": {},
   "outputs": [],
   "source": [
    "import json\n",
    "\n",
    "# 初始化手柄配置\n",
    "config = {\n",
    "    \"buttons\": {\n",
    "        0: \"A\",\n",
    "        1: \"B\",\n",
    "        2: \"X\",\n",
    "        3: \"Y\",\n",
    "        4: \"LB\",\n",
    "        5: \"RB\",\n",
    "        6: \"BACK\",\n",
    "        7: \"MENU\",\n",
    "        8: \"L3\",\n",
    "        9: \"R3\",\n",
    "    },\n",
    "    \"axes\": {\n",
    "        # \"LX\": 0,\n",
    "        # \"LY\": 1,\n",
    "        # \"RX\": 2,\n",
    "        # \"RY\": 3,\n",
    "        # \"LT\": 4,\n",
    "        # \"RT\": 5,\n",
    "        0: \"LX\",\n",
    "        1: \"LY\",\n",
    "        2: \"RX\",\n",
    "        3: \"RY\",\n",
    "        4: \"LT\",\n",
    "        5: \"RT\",\n",
    "    },\n",
    "    \"dpad\": {\n",
    "        \"UP\": (0, 1),\n",
    "        \"DOWN\": (0, -1),\n",
    "        \"LEFT\": (-1, 0),\n",
    "        \"RIGHT\": (1, 0),\n",
    "    },\n",
    "    \"mapping\": {\n",
    "        \"mouse\": {\n",
    "            \"A\": \"left\",\n",
    "            \"RB\": \"right\",\n",
    "            \"L3\": \"middle\",\n",
    "        },\n",
    "        \"keyboard\": {\n",
    "            \"B\": [\"Alt\"],\n",
    "            \"X\": [\"Ctrl\"],\n",
    "            \"Y\": [\"Shift\"],\n",
    "            \"LB\": [\"c\"],\n",
    "            \"BACK\": [\"ESC\"],\n",
    "            \"MENU\": [\"LB\"],\n",
    "        },\n",
    "    }\n",
    "}\n",
    "\n",
    "# 将手柄数据保存到文件\n",
    "with open(\"config.json\", \"w\") as f:\n",
    "    json.dump(config, f, indent=4)\n"
   ]
  },
  {
   "cell_type": "code",
   "execution_count": 6,
   "id": "7dc2ddec",
   "metadata": {},
   "outputs": [
    {
     "name": "stdout",
     "output_type": "stream",
     "text": [
      "手柄配置:\n",
      "buttons: {'A': 0, 'B': 1, 'X': 2, 'Y': 3, 'LB': 4, 'RB': 5, 'BACK': 6, 'MENU': 7, 'L3': 8, 'R3': 9}\n",
      "axes: {'LX': 0, 'LY': 1, 'RX': 2, 'RY': 3, 'LT': 4, 'RT': 5}\n",
      "dpad: {'UP': [0, 1], 'DOWN': [0, -1], 'LEFT': [-1, 0], 'RIGHT': [1, 0]}\n",
      "mapping: {'mouse': {'A': 'left', 'RB': 'right', 'L3': 'middle'}, 'keyboard': {'B': ['Alt'], 'X': ['Ctrl'], 'Y': ['Shift'], 'LB': ['c'], 'BACK': ['ESC'], 'MENU': ['LB']}}\n"
     ]
    }
   ],
   "source": [
    "import json\n",
    "\n",
    "with open(\"config.json\", \"r\") as f:\n",
    "    conf = json.load(f)\n",
    "# 读取手柄配置\n",
    "print(\"手柄配置:\")\n",
    "for key, value in conf.items():\n",
    "    print(f\"{key}: {value}\")"
   ]
  }
 ],
 "metadata": {
  "kernelspec": {
   "display_name": "anticts",
   "language": "python",
   "name": "python3"
  },
  "language_info": {
   "codemirror_mode": {
    "name": "ipython",
    "version": 3
   },
   "file_extension": ".py",
   "mimetype": "text/x-python",
   "name": "python",
   "nbconvert_exporter": "python",
   "pygments_lexer": "ipython3",
   "version": "3.8.20"
  }
 },
 "nbformat": 4,
 "nbformat_minor": 5
}
